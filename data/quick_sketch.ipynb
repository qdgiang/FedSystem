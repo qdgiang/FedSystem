{
 "cells": [
  {
   "cell_type": "code",
   "execution_count": 3,
   "metadata": {},
   "outputs": [],
   "source": [
    "from FLamby.flamby.datasets.fed_tcga_brca import FedTcgaBrca \n",
    "from torch.utils.data import DataLoader as dl"
   ]
  },
  {
   "cell_type": "code",
   "execution_count": 4,
   "metadata": {},
   "outputs": [],
   "source": [
    "center0 = FedTcgaBrca(center=0, train=True)\n",
    "c0 = iter(dl(center0, batch_size=4, shuffle=True, num_workers=0))"
   ]
  },
  {
   "cell_type": "code",
   "execution_count": 5,
   "metadata": {},
   "outputs": [
    {
     "name": "stdout",
     "output_type": "stream",
     "text": [
      "tensor([[52.,  0.,  1.,  0.,  1.,  0.,  0.,  0.,  0.,  0.,  0.,  0.,  0.,  0.,\n",
      "          0.,  0.,  0.,  0.,  1.,  0.,  0.,  0.,  1.,  0.,  1.,  1.,  0.,  1.,\n",
      "          0.,  0.,  0.,  0.,  1.,  1.,  0.,  0.,  0.,  0.,  0.],\n",
      "        [46.,  1.,  0.,  0.,  0.,  0.,  1.,  0.,  0.,  0.,  0.,  0.,  0.,  0.,\n",
      "          0.,  1.,  0.,  0.,  0.,  0.,  1.,  0.,  1.,  0.,  1.,  0.,  1.,  0.,\n",
      "          1.,  0.,  0.,  0.,  1.,  0.,  0.,  0.,  1.,  0.,  0.],\n",
      "        [41.,  0.,  1.,  0.,  0.,  0.,  1.,  0.,  0.,  0.,  1.,  0.,  0.,  0.,\n",
      "          1.,  0.,  0.,  0.,  1.,  0.,  0.,  0.,  1.,  0.,  1.,  1.,  0.,  1.,\n",
      "          0.,  0.,  0.,  0.,  1.,  0.,  0.,  1.,  0.,  0.,  0.],\n",
      "        [60.,  0.,  1.,  0.,  0.,  0.,  1.,  0.,  0.,  0.,  0.,  0.,  0.,  0.,\n",
      "          0.,  0.,  0.,  0.,  0.,  0.,  0.,  0.,  1.,  0.,  0.,  1.,  0.,  1.,\n",
      "          0.,  0.,  0.,  1.,  0.,  1.,  0.,  0.,  0.,  0.,  0.]])\n",
      "tensor([[0.0000e+00, 1.8200e+03],\n",
      "        [0.0000e+00, 6.2200e+02],\n",
      "        [0.0000e+00, 2.4030e+03],\n",
      "        [1.0000e+00, 9.2100e+02]])\n",
      "torch.Size([4, 39])\n",
      "torch.Size([4, 2])\n"
     ]
    }
   ],
   "source": [
    "point, target = next(c0)\n",
    "print(point)\n",
    "print(target)\n",
    "print(point.shape)\n",
    "print(target.shape)"
   ]
  },
  {
   "cell_type": "code",
   "execution_count": 13,
   "metadata": {},
   "outputs": [],
   "source": [
    "from FLamby.flamby.datasets.fed_heart_disease import FedHeartDisease\n"
   ]
  },
  {
   "cell_type": "code",
   "execution_count": 42,
   "metadata": {},
   "outputs": [],
   "source": [
    "center1 = FedHeartDisease(center=1, train=True)\n",
    "c1 = iter(dl(center1, batch_size=16, shuffle=True, num_workers=0))"
   ]
  },
  {
   "cell_type": "code",
   "execution_count": 50,
   "metadata": {},
   "outputs": [
    {
     "name": "stdout",
     "output_type": "stream",
     "text": [
      "tensor([[ 2.1683,  0.6383,  2.0928,  0.2337,  3.4871, -1.1373,  1.4543,  1.5345,\n",
      "         -0.7771, -0.4397,  1.2036, -0.4112, -0.1539],\n",
      "        [ 0.8054,  0.6383,  0.4118, -0.4553, -0.2851, -1.4303, -0.6836,  0.9793,\n",
      "         -0.7771, -0.4397,  1.2036, -0.4112, -0.1539],\n",
      "        [-1.5488, -1.5575,  0.4118, -1.1737, -0.2851,  0.4534, -0.6836, -0.6862,\n",
      "         -0.7771, -0.4397,  1.2036, -0.4112, -0.1539],\n",
      "        [ 1.0532, -1.5575, -0.7089,  0.4683, -0.2851,  0.4534, -0.6836,  0.4241,\n",
      "          1.2793, -0.4397, -0.8260, -0.4112, -0.1539],\n",
      "        [ 0.8054,  0.6383, -0.7089, -1.1151, -0.2851, -0.0908, -0.6836,  1.5345,\n",
      "         -0.7771, -0.4397, -0.8260, -0.4112, -0.1539],\n",
      "        [ 0.1859,  0.6383, -0.1486, -0.6019, -0.2851,  1.2906, -0.6836, -0.6862,\n",
      "         -0.7771, -0.4397,  1.2036, -0.4112, -0.1539],\n",
      "        [ 0.1859,  0.6383, -1.8296,  0.0871, -0.2851,  1.4581, -0.6836, -0.6862,\n",
      "          1.2793, -0.4397, -0.8260, -0.4112, -0.1539],\n",
      "        [-1.0532,  0.6383,  1.5325, -1.4669,  3.4871,  0.8720, -0.6836, -0.6862,\n",
      "         -0.7771,  2.2612, -0.8260, -0.4112, -0.1539],\n",
      "        [-0.0620,  0.6383,  0.4118, -0.7925, -0.2851,  0.2441,  1.4543,  0.4241,\n",
      "         -0.7771,  2.2612, -0.8260, -0.4112, -0.1539],\n",
      "        [ 0.4337,  0.6383, -0.1486, -0.9978, -0.2851, -1.6396, -0.6836, -0.6862,\n",
      "         -0.7771, -0.4397,  1.2036, -0.4112, -0.1539],\n",
      "        [ 1.3010,  0.6383, -0.1486,  0.0578, -0.2851, -1.2210, -0.6836, -0.6862,\n",
      "          1.2793, -0.4397, -0.8260, -0.4112, -0.1539],\n",
      "        [ 0.6815,  0.6383, -0.7089, -0.0155, -0.2851, -0.9699,  1.4543, -0.6862,\n",
      "         -0.7771, -0.4397,  1.2036, -0.4112, -0.1539],\n",
      "        [ 0.6815,  0.6383, -0.7089, -0.7632, -0.2851,  0.0348, -0.6836, -0.6862,\n",
      "         -0.7771,  2.2612, -0.8260, -0.4112, -0.1539],\n",
      "        [ 1.0532,  0.6383, -0.7089, -2.3759, -0.2851,  0.0348, -0.6836, -0.6862,\n",
      "         -0.7771, -0.4397,  1.2036, -0.4112, -0.1539],\n",
      "        [-0.6815,  0.6383,  1.5325, -1.4669, -0.2851,  0.2860, -0.6836, -0.6862,\n",
      "         -0.7771,  2.2612, -0.8260, -0.4112, -0.1539],\n",
      "        [ 1.0532,  0.6383, -0.1486, -0.9245, -0.2851, -1.6396, -0.6836, -0.6862,\n",
      "          1.2793, -0.4397, -0.8260, -0.4112, -0.1539]])\n",
      "tensor([[1.],\n",
      "        [1.],\n",
      "        [0.],\n",
      "        [1.],\n",
      "        [0.],\n",
      "        [1.],\n",
      "        [0.],\n",
      "        [0.],\n",
      "        [1.],\n",
      "        [0.],\n",
      "        [0.],\n",
      "        [1.],\n",
      "        [0.],\n",
      "        [0.],\n",
      "        [0.],\n",
      "        [0.]])\n"
     ]
    }
   ],
   "source": [
    "point, target = next(c1)\n",
    "print(point)\n",
    "print(target)"
   ]
  },
  {
   "cell_type": "code",
   "execution_count": 19,
   "metadata": {},
   "outputs": [],
   "source": [
    "import numpy as np"
   ]
  },
  {
   "cell_type": "code",
   "execution_count": 22,
   "metadata": {},
   "outputs": [
    {
     "name": "stdout",
     "output_type": "stream",
     "text": [
      "[tensor([0.]), tensor([0.]), tensor([0.]), tensor([0.]), tensor([0.]), tensor([0.]), tensor([0.]), tensor([0.]), tensor([0.]), tensor([0.]), tensor([0.]), tensor([0.]), tensor([0.]), tensor([0.]), tensor([0.]), tensor([0.]), tensor([0.]), tensor([0.]), tensor([0.]), tensor([0.]), tensor([0.]), tensor([0.]), tensor([0.]), tensor([0.]), tensor([0.]), tensor([0.]), tensor([0.]), tensor([0.]), tensor([0.]), tensor([0.]), tensor([0.]), tensor([0.]), tensor([0.]), tensor([0.]), tensor([0.]), tensor([0.]), tensor([0.]), tensor([0.]), tensor([0.]), tensor([0.]), tensor([0.]), tensor([0.]), tensor([0.]), tensor([0.]), tensor([0.]), tensor([0.]), tensor([0.]), tensor([0.]), tensor([0.]), tensor([0.]), tensor([0.]), tensor([0.]), tensor([0.]), tensor([0.]), tensor([0.]), tensor([0.]), tensor([0.]), tensor([0.]), tensor([0.]), tensor([0.]), tensor([0.]), tensor([0.]), tensor([0.]), tensor([0.]), tensor([0.]), tensor([0.]), tensor([0.]), tensor([0.]), tensor([0.]), tensor([0.]), tensor([0.]), tensor([0.]), tensor([0.]), tensor([0.]), tensor([0.]), tensor([0.]), tensor([0.]), tensor([0.]), tensor([0.]), tensor([0.]), tensor([0.]), tensor([0.]), tensor([0.]), tensor([0.]), tensor([0.]), tensor([0.]), tensor([0.]), tensor([0.]), tensor([0.]), tensor([0.]), tensor([0.]), tensor([0.]), tensor([0.]), tensor([0.]), tensor([0.]), tensor([0.]), tensor([0.]), tensor([0.]), tensor([0.]), tensor([0.]), tensor([0.]), tensor([0.]), tensor([0.]), tensor([0.]), tensor([0.]), tensor([0.]), tensor([0.]), tensor([1.]), tensor([1.]), tensor([1.]), tensor([1.]), tensor([1.]), tensor([1.]), tensor([1.]), tensor([1.]), tensor([1.]), tensor([1.]), tensor([1.]), tensor([1.]), tensor([1.]), tensor([1.]), tensor([1.]), tensor([1.]), tensor([1.]), tensor([1.]), tensor([1.]), tensor([1.]), tensor([1.]), tensor([1.]), tensor([1.]), tensor([1.]), tensor([1.]), tensor([1.]), tensor([1.]), tensor([1.]), tensor([1.]), tensor([1.]), tensor([1.]), tensor([1.]), tensor([1.]), tensor([1.]), tensor([1.]), tensor([1.]), tensor([1.]), tensor([1.]), tensor([1.]), tensor([1.]), tensor([1.]), tensor([1.]), tensor([1.]), tensor([1.]), tensor([1.]), tensor([1.]), tensor([1.]), tensor([1.]), tensor([1.]), tensor([1.]), tensor([1.]), tensor([1.]), tensor([1.]), tensor([1.]), tensor([1.]), tensor([1.]), tensor([1.]), tensor([1.]), tensor([1.]), tensor([1.]), tensor([1.]), tensor([1.]), tensor([1.]), tensor([1.]), tensor([1.])]\n"
     ]
    }
   ],
   "source": [
    "# get all unique values from center1.labels, which is a list of tensors\n",
    "print()"
   ]
  },
  {
   "cell_type": "code",
   "execution_count": 26,
   "metadata": {},
   "outputs": [
    {
     "name": "stdout",
     "output_type": "stream",
     "text": [
      "(tensor([50.,  1.,  0.,  0.,  0.,  0.,  1.,  0.,  0.,  1.,  0.,  0.,  0.,  0.,\n",
      "         1.,  0.,  0.,  0.,  0.,  0.,  0.,  0.,  0.,  0.,  1.,  1.,  0.,  1.,\n",
      "         0.,  0.,  0.,  1.,  0.,  0.,  0.,  1.,  0.,  0.,  0.]), tensor([1.0000e+00, 1.1420e+03]))\n"
     ]
    }
   ],
   "source": [
    "print(center0[3])"
   ]
  }
 ],
 "metadata": {
  "kernelspec": {
   "display_name": "flamby",
   "language": "python",
   "name": "python3"
  },
  "language_info": {
   "codemirror_mode": {
    "name": "ipython",
    "version": 3
   },
   "file_extension": ".py",
   "mimetype": "text/x-python",
   "name": "python",
   "nbconvert_exporter": "python",
   "pygments_lexer": "ipython3",
   "version": "3.10.12"
  },
  "orig_nbformat": 4
 },
 "nbformat": 4,
 "nbformat_minor": 2
}
